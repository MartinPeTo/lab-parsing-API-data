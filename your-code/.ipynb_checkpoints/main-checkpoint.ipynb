{
 "cells": [
  {
   "cell_type": "markdown",
   "metadata": {},
   "source": [
    "# Challenge: Promotions\n",
    "\n",
    "In this challenge, you'll develop codes to parse and analyze data returned from another API on Zalando such as [Promos homme (Men's Promotions)\n",
    "](https://www.zalando.fr/promo-homme/) or [Promos femme (Women's Promotions)](https://www.zalando.fr/promo-femme/). The workflow is almost the same as in the guided lesson but you'll work with different data."
   ]
  },
  {
   "cell_type": "markdown",
   "metadata": {},
   "source": [
    "## Obtaining the link\n",
    "\n",
    "Wrote your codes in the cell below to obtain the data from the API endpoint you choose. A recap of the workflow:\n",
    "\n",
    "1. Examine the webpages and choose one that you want to work with.\n",
    "\n",
    "1. Use Google Chrome's DevTools to inspect the XHR network requests. Find out the API endpoint that serves data to the webpage.\n",
    "\n",
    "1. Test the API endpoint in the browser to verify its data.\n",
    "\n",
    "1. Change the page number offset of the API URL to test if it's working."
   ]
  },
  {
   "cell_type": "code",
   "execution_count": null,
   "metadata": {},
   "outputs": [],
   "source": [
    "#Link: https://www.zalando.fr/api/catalog/articles?categories=promo-femme&limit=84&offset=0&sort=sale"
   ]
  },
  {
   "cell_type": "markdown",
   "metadata": {},
   "source": [
    "## Reading the data\n",
    "\n",
    "In the next cell, use Python to obtain data from the API endpoint you chose in the previous step. Workflow:\n",
    "\n",
    "1. Import libraries.\n",
    "\n",
    "1. Define the initial API endpoint URL.\n",
    "\n",
    "1. Make request to obtain data of the 1st page. Flatten the data and store it in an empty object variable.\n",
    "\n",
    "1. Find out the total page count in the 1st page data.\n",
    "\n",
    "1. Use a FOR loop to make requests for the additional pages from 2 to page count. Append the data of each additional page to the flatterned data object.\n",
    "\n",
    "1. Print and review the data you obtained."
   ]
  },
  {
   "cell_type": "code",
   "execution_count": 16,
   "metadata": {},
   "outputs": [],
   "source": [
    "#Step 1\n",
    "import json\n",
    "import requests\n",
    "import pandas as pd\n",
    "from pandas.io.json import json_normalize"
   ]
  },
  {
   "cell_type": "code",
   "execution_count": 17,
   "metadata": {},
   "outputs": [],
   "source": [
    "#Step 2\n",
    "url = 'https://www.zalando.fr/api/catalog/articles?categories=promo-femme&limit=84&offset=0&sort=sale'\n",
    "headers = {'User-Agent': 'Mozilla/5.0 (X11; Linux x86_64) AppleWebKit/537.36 (KHTML, like Gecko) Chrome/75.0.3770.100 Safari/537.36'}"
   ]
  },
  {
   "cell_type": "code",
   "execution_count": 18,
   "metadata": {},
   "outputs": [],
   "source": [
    "# Step 3\n",
    "response = requests.get(url,headers = headers)\n",
    "results = response.json()\n",
    "flattened_data = json_normalize(results)\n",
    "female_zalando = json_normalize(flattened_data.articles[0])\n",
    "female_zalando = female_zalando.set_index('sku')\n",
    "\n",
    "#Creamos un dataframe y añadimos la primera pagina\n",
    "data_female = pd.DataFrame()\n",
    "data_female = data_female.append(flattened_articles)"
   ]
  },
  {
   "cell_type": "code",
   "execution_count": 19,
   "metadata": {},
   "outputs": [
    {
     "name": "stdout",
     "output_type": "stream",
     "text": [
      "892\n"
     ]
    }
   ],
   "source": [
    "#Step 4:\n",
    "page_count = results[\"pagination\"][\"page_count\"]\n",
    "print(page_count)"
   ]
  },
  {
   "cell_type": "code",
   "execution_count": 20,
   "metadata": {
    "scrolled": true
   },
   "outputs": [
    {
     "name": "stderr",
     "output_type": "stream",
     "text": [
      "/home/martin/.local/lib/python3.6/site-packages/pandas/core/frame.py:6692: FutureWarning: Sorting because non-concatenation axis is not aligned. A future version\n",
      "of pandas will change to not sort by default.\n",
      "\n",
      "To accept the future behavior, pass 'sort=False'.\n",
      "\n",
      "To retain the current behavior and silence the warning, pass 'sort=True'.\n",
      "\n",
      "  sort=sort)\n"
     ]
    }
   ],
   "source": [
    "#Step 5:\n",
    "data_zalando = pd.DataFrame()\n",
    "#Creamos un df vacio\n",
    "#Creamos un for para repetir el proceso de request para introducir cada pagina en el df\n",
    "for page in range (1,page_count):\n",
    "    url='https://www.zalando.fr/api/catalog/articles?categories=promo-femme&limit=84&offset=' + str(page*84) +'&sort=sale'\n",
    "    response = requests.get(url,headers = headers)\n",
    "    results = response.json()\n",
    "    flattened = json_normalize(results)\n",
    "    flattened_articles =  json_normalize(flattened.articles[0])\n",
    "    flattened_articles = flattened_articles.set_index('sku')\n",
    "    data_female = data_female.append(flattened_articles)\n",
    "    "
   ]
  },
  {
   "cell_type": "code",
   "execution_count": 21,
   "metadata": {},
   "outputs": [
    {
     "data": {
      "text/html": [
       "<div>\n",
       "<style scoped>\n",
       "    .dataframe tbody tr th:only-of-type {\n",
       "        vertical-align: middle;\n",
       "    }\n",
       "\n",
       "    .dataframe tbody tr th {\n",
       "        vertical-align: top;\n",
       "    }\n",
       "\n",
       "    .dataframe thead th {\n",
       "        text-align: right;\n",
       "    }\n",
       "</style>\n",
       "<table border=\"1\" class=\"dataframe\">\n",
       "  <thead>\n",
       "    <tr style=\"text-align: right;\">\n",
       "      <th></th>\n",
       "      <th>amount</th>\n",
       "      <th>brand_name</th>\n",
       "      <th>family_articles</th>\n",
       "      <th>flags</th>\n",
       "      <th>is_premium</th>\n",
       "      <th>media</th>\n",
       "      <th>name</th>\n",
       "      <th>outfits</th>\n",
       "      <th>price.base_price</th>\n",
       "      <th>price.has_different_original_prices</th>\n",
       "      <th>price.has_different_prices</th>\n",
       "      <th>price.has_different_promotional_prices</th>\n",
       "      <th>price.has_discount_on_selected_sizes_only</th>\n",
       "      <th>price.original</th>\n",
       "      <th>price.promotional</th>\n",
       "      <th>product_group</th>\n",
       "      <th>sizes</th>\n",
       "      <th>url_key</th>\n",
       "    </tr>\n",
       "    <tr>\n",
       "      <th>sku</th>\n",
       "      <th></th>\n",
       "      <th></th>\n",
       "      <th></th>\n",
       "      <th></th>\n",
       "      <th></th>\n",
       "      <th></th>\n",
       "      <th></th>\n",
       "      <th></th>\n",
       "      <th></th>\n",
       "      <th></th>\n",
       "      <th></th>\n",
       "      <th></th>\n",
       "      <th></th>\n",
       "      <th></th>\n",
       "      <th></th>\n",
       "      <th></th>\n",
       "      <th></th>\n",
       "      <th></th>\n",
       "    </tr>\n",
       "  </thead>\n",
       "  <tbody>\n",
       "    <tr>\n",
       "      <th>VE121E1KR-K11</th>\n",
       "      <td>NaN</td>\n",
       "      <td>Vero Moda</td>\n",
       "      <td>[{'sku': 'VE121E1KR-K11', 'url_key': 'vero-mod...</td>\n",
       "      <td>[{'key': 'discountRate', 'value': '-60%', 'tra...</td>\n",
       "      <td>False</td>\n",
       "      <td>[{'path': 'VE/12/1E/1K/RK/11/VE121E1KR-K11@8.j...</td>\n",
       "      <td>VMANNIE - Blouse - night sky</td>\n",
       "      <td>NaN</td>\n",
       "      <td>NaN</td>\n",
       "      <td>False</td>\n",
       "      <td>False</td>\n",
       "      <td>False</td>\n",
       "      <td>False</td>\n",
       "      <td>29,99 €</td>\n",
       "      <td>12,00 €</td>\n",
       "      <td>clothing</td>\n",
       "      <td>[XS, S, M, L, XL]</td>\n",
       "      <td>vero-moda-vmannie-blouse-ve121e1kr-k11</td>\n",
       "    </tr>\n",
       "    <tr>\n",
       "      <th>AD112B0H9-J11</th>\n",
       "      <td>NaN</td>\n",
       "      <td>adidas Originals</td>\n",
       "      <td>[{'sku': 'AD112B0H9-J11', 'url_key': 'adidas-o...</td>\n",
       "      <td>[{'key': 'discountRate', 'value': 'Jusqu’à -45...</td>\n",
       "      <td>False</td>\n",
       "      <td>[{'path': 'AD/11/2B/0H/9J/11/AD112B0H9-J11@14....</td>\n",
       "      <td>GAZELLE - Baskets basses - vapour pink/white/g...</td>\n",
       "      <td>NaN</td>\n",
       "      <td>NaN</td>\n",
       "      <td>False</td>\n",
       "      <td>True</td>\n",
       "      <td>True</td>\n",
       "      <td>False</td>\n",
       "      <td>94,95 €</td>\n",
       "      <td>51,95 €</td>\n",
       "      <td>shoe</td>\n",
       "      <td>[36, 38, 40, 42, 44, 46, 48, 36 2/3, 37 1/3, 3...</td>\n",
       "      <td>adidas-originals-gazelle-baskets-basses-ad112b...</td>\n",
       "    </tr>\n",
       "    <tr>\n",
       "      <th>VE121I13F-Q11</th>\n",
       "      <td>NaN</td>\n",
       "      <td>Vero Moda</td>\n",
       "      <td>[{'sku': 'VE121I13F-Q11', 'url_key': 'vero-mod...</td>\n",
       "      <td>[{'key': 'discountRate', 'value': '-70%', 'tra...</td>\n",
       "      <td>False</td>\n",
       "      <td>[{'path': 'VE/12/1I/13/FQ/11/VE121I13F-Q11@8.j...</td>\n",
       "      <td>VMTIDA O NECK - Pullover - black/white</td>\n",
       "      <td>NaN</td>\n",
       "      <td>NaN</td>\n",
       "      <td>False</td>\n",
       "      <td>False</td>\n",
       "      <td>False</td>\n",
       "      <td>False</td>\n",
       "      <td>19,99 €</td>\n",
       "      <td>6,00 €</td>\n",
       "      <td>clothing</td>\n",
       "      <td>[XS, S, M, L, XL]</td>\n",
       "      <td>vero-moda-vmtida-o-neck-pullover-blackwhite-ve...</td>\n",
       "    </tr>\n",
       "    <tr>\n",
       "      <th>V1021C1E5-K11</th>\n",
       "      <td>NaN</td>\n",
       "      <td>Vila</td>\n",
       "      <td>[{'sku': 'V1021C1E5-K11', 'url_key': 'vila-vil...</td>\n",
       "      <td>[{'key': 'discountRate', 'value': 'Jusqu’à -70...</td>\n",
       "      <td>False</td>\n",
       "      <td>[{'path': 'V1/02/1C/1E/5K/11/V1021C1E5-K11@9.j...</td>\n",
       "      <td>VILAMIDA - Robe d'été - navy blazer</td>\n",
       "      <td>NaN</td>\n",
       "      <td>NaN</td>\n",
       "      <td>False</td>\n",
       "      <td>True</td>\n",
       "      <td>True</td>\n",
       "      <td>False</td>\n",
       "      <td>39,99 €</td>\n",
       "      <td>12,00 €</td>\n",
       "      <td>clothing</td>\n",
       "      <td>[36, 38, 40, 44, 46]</td>\n",
       "      <td>vila-vilamida-dress-robe-dete-navy-blazer-v102...</td>\n",
       "    </tr>\n",
       "    <tr>\n",
       "      <th>VE121C1G7-K11</th>\n",
       "      <td>NaN</td>\n",
       "      <td>Vero Moda</td>\n",
       "      <td>[{'sku': 'VE121C1G7-K11', 'url_key': 'vero-mod...</td>\n",
       "      <td>[{'key': 'discountRate', 'value': '-30%', 'tra...</td>\n",
       "      <td>False</td>\n",
       "      <td>[{'path': 'VE/12/1C/1G/7K/11/VE121C1G7-K11@7.j...</td>\n",
       "      <td>VMKATINKA SHORT DRESS - Robe d'été - navy blaz...</td>\n",
       "      <td>NaN</td>\n",
       "      <td>NaN</td>\n",
       "      <td>False</td>\n",
       "      <td>False</td>\n",
       "      <td>False</td>\n",
       "      <td>False</td>\n",
       "      <td>27,99 €</td>\n",
       "      <td>19,60 €</td>\n",
       "      <td>clothing</td>\n",
       "      <td>[XS, S, M, L, XL]</td>\n",
       "      <td>vero-moda-vmkatinka-short-dress-robe-dete-ve12...</td>\n",
       "    </tr>\n",
       "  </tbody>\n",
       "</table>\n",
       "</div>"
      ],
      "text/plain": [
       "              amount        brand_name  \\\n",
       "sku                                      \n",
       "VE121E1KR-K11    NaN         Vero Moda   \n",
       "AD112B0H9-J11    NaN  adidas Originals   \n",
       "VE121I13F-Q11    NaN         Vero Moda   \n",
       "V1021C1E5-K11    NaN              Vila   \n",
       "VE121C1G7-K11    NaN         Vero Moda   \n",
       "\n",
       "                                                 family_articles  \\\n",
       "sku                                                                \n",
       "VE121E1KR-K11  [{'sku': 'VE121E1KR-K11', 'url_key': 'vero-mod...   \n",
       "AD112B0H9-J11  [{'sku': 'AD112B0H9-J11', 'url_key': 'adidas-o...   \n",
       "VE121I13F-Q11  [{'sku': 'VE121I13F-Q11', 'url_key': 'vero-mod...   \n",
       "V1021C1E5-K11  [{'sku': 'V1021C1E5-K11', 'url_key': 'vila-vil...   \n",
       "VE121C1G7-K11  [{'sku': 'VE121C1G7-K11', 'url_key': 'vero-mod...   \n",
       "\n",
       "                                                           flags  is_premium  \\\n",
       "sku                                                                            \n",
       "VE121E1KR-K11  [{'key': 'discountRate', 'value': '-60%', 'tra...       False   \n",
       "AD112B0H9-J11  [{'key': 'discountRate', 'value': 'Jusqu’à -45...       False   \n",
       "VE121I13F-Q11  [{'key': 'discountRate', 'value': '-70%', 'tra...       False   \n",
       "V1021C1E5-K11  [{'key': 'discountRate', 'value': 'Jusqu’à -70...       False   \n",
       "VE121C1G7-K11  [{'key': 'discountRate', 'value': '-30%', 'tra...       False   \n",
       "\n",
       "                                                           media  \\\n",
       "sku                                                                \n",
       "VE121E1KR-K11  [{'path': 'VE/12/1E/1K/RK/11/VE121E1KR-K11@8.j...   \n",
       "AD112B0H9-J11  [{'path': 'AD/11/2B/0H/9J/11/AD112B0H9-J11@14....   \n",
       "VE121I13F-Q11  [{'path': 'VE/12/1I/13/FQ/11/VE121I13F-Q11@8.j...   \n",
       "V1021C1E5-K11  [{'path': 'V1/02/1C/1E/5K/11/V1021C1E5-K11@9.j...   \n",
       "VE121C1G7-K11  [{'path': 'VE/12/1C/1G/7K/11/VE121C1G7-K11@7.j...   \n",
       "\n",
       "                                                            name outfits  \\\n",
       "sku                                                                        \n",
       "VE121E1KR-K11                       VMANNIE - Blouse - night sky     NaN   \n",
       "AD112B0H9-J11  GAZELLE - Baskets basses - vapour pink/white/g...     NaN   \n",
       "VE121I13F-Q11             VMTIDA O NECK - Pullover - black/white     NaN   \n",
       "V1021C1E5-K11                VILAMIDA - Robe d'été - navy blazer     NaN   \n",
       "VE121C1G7-K11  VMKATINKA SHORT DRESS - Robe d'été - navy blaz...     NaN   \n",
       "\n",
       "              price.base_price  price.has_different_original_prices  \\\n",
       "sku                                                                   \n",
       "VE121E1KR-K11              NaN                                False   \n",
       "AD112B0H9-J11              NaN                                False   \n",
       "VE121I13F-Q11              NaN                                False   \n",
       "V1021C1E5-K11              NaN                                False   \n",
       "VE121C1G7-K11              NaN                                False   \n",
       "\n",
       "               price.has_different_prices  \\\n",
       "sku                                         \n",
       "VE121E1KR-K11                       False   \n",
       "AD112B0H9-J11                        True   \n",
       "VE121I13F-Q11                       False   \n",
       "V1021C1E5-K11                        True   \n",
       "VE121C1G7-K11                       False   \n",
       "\n",
       "               price.has_different_promotional_prices  \\\n",
       "sku                                                     \n",
       "VE121E1KR-K11                                   False   \n",
       "AD112B0H9-J11                                    True   \n",
       "VE121I13F-Q11                                   False   \n",
       "V1021C1E5-K11                                    True   \n",
       "VE121C1G7-K11                                   False   \n",
       "\n",
       "               price.has_discount_on_selected_sizes_only price.original  \\\n",
       "sku                                                                       \n",
       "VE121E1KR-K11                                      False        29,99 €   \n",
       "AD112B0H9-J11                                      False        94,95 €   \n",
       "VE121I13F-Q11                                      False        19,99 €   \n",
       "V1021C1E5-K11                                      False        39,99 €   \n",
       "VE121C1G7-K11                                      False        27,99 €   \n",
       "\n",
       "              price.promotional product_group  \\\n",
       "sku                                             \n",
       "VE121E1KR-K11           12,00 €      clothing   \n",
       "AD112B0H9-J11           51,95 €          shoe   \n",
       "VE121I13F-Q11            6,00 €      clothing   \n",
       "V1021C1E5-K11           12,00 €      clothing   \n",
       "VE121C1G7-K11           19,60 €      clothing   \n",
       "\n",
       "                                                           sizes  \\\n",
       "sku                                                                \n",
       "VE121E1KR-K11                                  [XS, S, M, L, XL]   \n",
       "AD112B0H9-J11  [36, 38, 40, 42, 44, 46, 48, 36 2/3, 37 1/3, 3...   \n",
       "VE121I13F-Q11                                  [XS, S, M, L, XL]   \n",
       "V1021C1E5-K11                               [36, 38, 40, 44, 46]   \n",
       "VE121C1G7-K11                                  [XS, S, M, L, XL]   \n",
       "\n",
       "                                                         url_key  \n",
       "sku                                                               \n",
       "VE121E1KR-K11             vero-moda-vmannie-blouse-ve121e1kr-k11  \n",
       "AD112B0H9-J11  adidas-originals-gazelle-baskets-basses-ad112b...  \n",
       "VE121I13F-Q11  vero-moda-vmtida-o-neck-pullover-blackwhite-ve...  \n",
       "V1021C1E5-K11  vila-vilamida-dress-robe-dete-navy-blazer-v102...  \n",
       "VE121C1G7-K11  vero-moda-vmkatinka-short-dress-robe-dete-ve12...  "
      ]
     },
     "execution_count": 21,
     "metadata": {},
     "output_type": "execute_result"
    }
   ],
   "source": [
    "#Step 6:\n",
    "data_female.head()"
   ]
  },
  {
   "cell_type": "markdown",
   "metadata": {},
   "source": [
    "## Bonus\n",
    "\n",
    "Extract the following information from the data:\n",
    "\n",
    "* The trending brand.\n",
    "\n",
    "* The product(s) with the highest discount.\n",
    "\n",
    "* The sum of discounts of all goods (sum_discounted_prices divided by sum_original_prices)."
   ]
  },
  {
   "cell_type": "code",
   "execution_count": 22,
   "metadata": {},
   "outputs": [],
   "source": [
    "#Creo un data frame nuevo con el que trabajar:\n",
    "zalando = data_female"
   ]
  },
  {
   "cell_type": "code",
   "execution_count": 23,
   "metadata": {},
   "outputs": [
    {
     "data": {
      "text/plain": [
       "Anna Field    1804\n",
       "Name: brand_name, dtype: int64"
      ]
     },
     "execution_count": 23,
     "metadata": {},
     "output_type": "execute_result"
    }
   ],
   "source": [
    "# The trending brand\n",
    "trending_brands = zalando['brand_name'].value_counts()\n",
    "trending_brands.head(1) #Mostramos la marca mas repetida"
   ]
  },
  {
   "cell_type": "code",
   "execution_count": 42,
   "metadata": {},
   "outputs": [],
   "source": [
    "zalando['price.original'] =zalando['price.original'].str.replace(\" \",\"\")\n",
    "zalando['price.promotional'] =zalando['price.promotional'].str.replace(\" \",\"\")"
   ]
  },
  {
   "cell_type": "code",
   "execution_count": 45,
   "metadata": {},
   "outputs": [
    {
     "ename": "ValueError",
     "evalue": "('Unable to parse string \"2999\\xa0\" at position 0', 'occurred at index price.original')",
     "output_type": "error",
     "traceback": [
      "\u001b[0;31m---------------------------------------------------------------------------\u001b[0m",
      "\u001b[0;31mValueError\u001b[0m                                Traceback (most recent call last)",
      "\u001b[0;32mpandas/_libs/lib.pyx\u001b[0m in \u001b[0;36mpandas._libs.lib.maybe_convert_numeric\u001b[0;34m()\u001b[0m\n",
      "\u001b[0;31mValueError\u001b[0m: Unable to parse string \"2999 \"",
      "\nDuring handling of the above exception, another exception occurred:\n",
      "\u001b[0;31mValueError\u001b[0m                                Traceback (most recent call last)",
      "\u001b[0;32m<ipython-input-45-6dbdd4db3ee7>\u001b[0m in \u001b[0;36m<module>\u001b[0;34m\u001b[0m\n\u001b[1;32m      2\u001b[0m \u001b[0mzalando\u001b[0m\u001b[0;34m[\u001b[0m\u001b[0;34m'price.original'\u001b[0m\u001b[0;34m]\u001b[0m \u001b[0;34m=\u001b[0m \u001b[0;34m(\u001b[0m\u001b[0mzalando\u001b[0m\u001b[0;34m[\u001b[0m\u001b[0;34m[\u001b[0m\u001b[0;34m'price.original'\u001b[0m\u001b[0;34m]\u001b[0m\u001b[0;34m]\u001b[0m\u001b[0;34m.\u001b[0m\u001b[0mreplace\u001b[0m\u001b[0;34m(\u001b[0m\u001b[0;34m'[\\€,]'\u001b[0m\u001b[0;34m,\u001b[0m \u001b[0;34m''\u001b[0m\u001b[0;34m,\u001b[0m \u001b[0mregex\u001b[0m\u001b[0;34m=\u001b[0m\u001b[0;32mTrue\u001b[0m\u001b[0;34m)\u001b[0m\u001b[0;34m)\u001b[0m\u001b[0;34m\u001b[0m\u001b[0;34m\u001b[0m\u001b[0m\n\u001b[1;32m      3\u001b[0m \u001b[0mzalando\u001b[0m\u001b[0;34m[\u001b[0m\u001b[0;34m'price.promotional'\u001b[0m\u001b[0;34m]\u001b[0m \u001b[0;34m=\u001b[0m \u001b[0;34m(\u001b[0m\u001b[0mzalando\u001b[0m\u001b[0;34m[\u001b[0m\u001b[0;34m[\u001b[0m\u001b[0;34m'price.promotional'\u001b[0m\u001b[0;34m]\u001b[0m\u001b[0;34m]\u001b[0m\u001b[0;34m.\u001b[0m\u001b[0mreplace\u001b[0m\u001b[0;34m(\u001b[0m\u001b[0;34m'[\\€,]'\u001b[0m\u001b[0;34m,\u001b[0m \u001b[0;34m''\u001b[0m\u001b[0;34m,\u001b[0m \u001b[0mregex\u001b[0m\u001b[0;34m=\u001b[0m\u001b[0;32mTrue\u001b[0m\u001b[0;34m)\u001b[0m\u001b[0;34m)\u001b[0m\u001b[0;34m\u001b[0m\u001b[0;34m\u001b[0m\u001b[0m\n\u001b[0;32m----> 4\u001b[0;31m \u001b[0mzalando\u001b[0m\u001b[0;34m[\u001b[0m\u001b[0;34m[\u001b[0m\u001b[0;34m'price.original'\u001b[0m\u001b[0;34m,\u001b[0m \u001b[0;34m'price.promotional'\u001b[0m\u001b[0;34m]\u001b[0m\u001b[0;34m]\u001b[0m \u001b[0;34m=\u001b[0m \u001b[0mzalando\u001b[0m\u001b[0;34m[\u001b[0m\u001b[0;34m[\u001b[0m\u001b[0;34m'price.original'\u001b[0m\u001b[0;34m,\u001b[0m \u001b[0;34m'price.promotional'\u001b[0m\u001b[0;34m]\u001b[0m\u001b[0;34m]\u001b[0m\u001b[0;34m.\u001b[0m\u001b[0mapply\u001b[0m\u001b[0;34m(\u001b[0m\u001b[0mpd\u001b[0m\u001b[0;34m.\u001b[0m\u001b[0mto_numeric\u001b[0m\u001b[0;34m)\u001b[0m\u001b[0;34m\u001b[0m\u001b[0;34m\u001b[0m\u001b[0m\n\u001b[0m\u001b[1;32m      5\u001b[0m \u001b[0;31m#zalando['discounts'] = (zalando['price.original'] / (zalando['price.original']-zalando['price.promotional']))*100\u001b[0m\u001b[0;34m\u001b[0m\u001b[0;34m\u001b[0m\u001b[0;34m\u001b[0m\u001b[0m\n\u001b[1;32m      6\u001b[0m \u001b[0;31m#Mostramos el producto con el mayor descuento (en porcentaje)\u001b[0m\u001b[0;34m\u001b[0m\u001b[0;34m\u001b[0m\u001b[0;34m\u001b[0m\u001b[0m\n",
      "\u001b[0;32m~/.local/lib/python3.6/site-packages/pandas/core/frame.py\u001b[0m in \u001b[0;36mapply\u001b[0;34m(self, func, axis, broadcast, raw, reduce, result_type, args, **kwds)\u001b[0m\n\u001b[1;32m   6485\u001b[0m                          \u001b[0margs\u001b[0m\u001b[0;34m=\u001b[0m\u001b[0margs\u001b[0m\u001b[0;34m,\u001b[0m\u001b[0;34m\u001b[0m\u001b[0;34m\u001b[0m\u001b[0m\n\u001b[1;32m   6486\u001b[0m                          kwds=kwds)\n\u001b[0;32m-> 6487\u001b[0;31m         \u001b[0;32mreturn\u001b[0m \u001b[0mop\u001b[0m\u001b[0;34m.\u001b[0m\u001b[0mget_result\u001b[0m\u001b[0;34m(\u001b[0m\u001b[0;34m)\u001b[0m\u001b[0;34m\u001b[0m\u001b[0;34m\u001b[0m\u001b[0m\n\u001b[0m\u001b[1;32m   6488\u001b[0m \u001b[0;34m\u001b[0m\u001b[0m\n\u001b[1;32m   6489\u001b[0m     \u001b[0;32mdef\u001b[0m \u001b[0mapplymap\u001b[0m\u001b[0;34m(\u001b[0m\u001b[0mself\u001b[0m\u001b[0;34m,\u001b[0m \u001b[0mfunc\u001b[0m\u001b[0;34m)\u001b[0m\u001b[0;34m:\u001b[0m\u001b[0;34m\u001b[0m\u001b[0;34m\u001b[0m\u001b[0m\n",
      "\u001b[0;32m~/.local/lib/python3.6/site-packages/pandas/core/apply.py\u001b[0m in \u001b[0;36mget_result\u001b[0;34m(self)\u001b[0m\n\u001b[1;32m    149\u001b[0m             \u001b[0;32mreturn\u001b[0m \u001b[0mself\u001b[0m\u001b[0;34m.\u001b[0m\u001b[0mapply_raw\u001b[0m\u001b[0;34m(\u001b[0m\u001b[0;34m)\u001b[0m\u001b[0;34m\u001b[0m\u001b[0;34m\u001b[0m\u001b[0m\n\u001b[1;32m    150\u001b[0m \u001b[0;34m\u001b[0m\u001b[0m\n\u001b[0;32m--> 151\u001b[0;31m         \u001b[0;32mreturn\u001b[0m \u001b[0mself\u001b[0m\u001b[0;34m.\u001b[0m\u001b[0mapply_standard\u001b[0m\u001b[0;34m(\u001b[0m\u001b[0;34m)\u001b[0m\u001b[0;34m\u001b[0m\u001b[0;34m\u001b[0m\u001b[0m\n\u001b[0m\u001b[1;32m    152\u001b[0m \u001b[0;34m\u001b[0m\u001b[0m\n\u001b[1;32m    153\u001b[0m     \u001b[0;32mdef\u001b[0m \u001b[0mapply_empty_result\u001b[0m\u001b[0;34m(\u001b[0m\u001b[0mself\u001b[0m\u001b[0;34m)\u001b[0m\u001b[0;34m:\u001b[0m\u001b[0;34m\u001b[0m\u001b[0;34m\u001b[0m\u001b[0m\n",
      "\u001b[0;32m~/.local/lib/python3.6/site-packages/pandas/core/apply.py\u001b[0m in \u001b[0;36mapply_standard\u001b[0;34m(self)\u001b[0m\n\u001b[1;32m    255\u001b[0m \u001b[0;34m\u001b[0m\u001b[0m\n\u001b[1;32m    256\u001b[0m         \u001b[0;31m# compute the result using the series generator\u001b[0m\u001b[0;34m\u001b[0m\u001b[0;34m\u001b[0m\u001b[0;34m\u001b[0m\u001b[0m\n\u001b[0;32m--> 257\u001b[0;31m         \u001b[0mself\u001b[0m\u001b[0;34m.\u001b[0m\u001b[0mapply_series_generator\u001b[0m\u001b[0;34m(\u001b[0m\u001b[0;34m)\u001b[0m\u001b[0;34m\u001b[0m\u001b[0;34m\u001b[0m\u001b[0m\n\u001b[0m\u001b[1;32m    258\u001b[0m \u001b[0;34m\u001b[0m\u001b[0m\n\u001b[1;32m    259\u001b[0m         \u001b[0;31m# wrap results\u001b[0m\u001b[0;34m\u001b[0m\u001b[0;34m\u001b[0m\u001b[0;34m\u001b[0m\u001b[0m\n",
      "\u001b[0;32m~/.local/lib/python3.6/site-packages/pandas/core/apply.py\u001b[0m in \u001b[0;36mapply_series_generator\u001b[0;34m(self)\u001b[0m\n\u001b[1;32m    284\u001b[0m             \u001b[0;32mtry\u001b[0m\u001b[0;34m:\u001b[0m\u001b[0;34m\u001b[0m\u001b[0;34m\u001b[0m\u001b[0m\n\u001b[1;32m    285\u001b[0m                 \u001b[0;32mfor\u001b[0m \u001b[0mi\u001b[0m\u001b[0;34m,\u001b[0m \u001b[0mv\u001b[0m \u001b[0;32min\u001b[0m \u001b[0menumerate\u001b[0m\u001b[0;34m(\u001b[0m\u001b[0mseries_gen\u001b[0m\u001b[0;34m)\u001b[0m\u001b[0;34m:\u001b[0m\u001b[0;34m\u001b[0m\u001b[0;34m\u001b[0m\u001b[0m\n\u001b[0;32m--> 286\u001b[0;31m                     \u001b[0mresults\u001b[0m\u001b[0;34m[\u001b[0m\u001b[0mi\u001b[0m\u001b[0;34m]\u001b[0m \u001b[0;34m=\u001b[0m \u001b[0mself\u001b[0m\u001b[0;34m.\u001b[0m\u001b[0mf\u001b[0m\u001b[0;34m(\u001b[0m\u001b[0mv\u001b[0m\u001b[0;34m)\u001b[0m\u001b[0;34m\u001b[0m\u001b[0;34m\u001b[0m\u001b[0m\n\u001b[0m\u001b[1;32m    287\u001b[0m                     \u001b[0mkeys\u001b[0m\u001b[0;34m.\u001b[0m\u001b[0mappend\u001b[0m\u001b[0;34m(\u001b[0m\u001b[0mv\u001b[0m\u001b[0;34m.\u001b[0m\u001b[0mname\u001b[0m\u001b[0;34m)\u001b[0m\u001b[0;34m\u001b[0m\u001b[0;34m\u001b[0m\u001b[0m\n\u001b[1;32m    288\u001b[0m             \u001b[0;32mexcept\u001b[0m \u001b[0mException\u001b[0m \u001b[0;32mas\u001b[0m \u001b[0me\u001b[0m\u001b[0;34m:\u001b[0m\u001b[0;34m\u001b[0m\u001b[0;34m\u001b[0m\u001b[0m\n",
      "\u001b[0;32m~/.local/lib/python3.6/site-packages/pandas/core/tools/numeric.py\u001b[0m in \u001b[0;36mto_numeric\u001b[0;34m(arg, errors, downcast)\u001b[0m\n\u001b[1;32m    133\u001b[0m             \u001b[0mcoerce_numeric\u001b[0m \u001b[0;34m=\u001b[0m \u001b[0;32mFalse\u001b[0m \u001b[0;32mif\u001b[0m \u001b[0merrors\u001b[0m \u001b[0;32min\u001b[0m \u001b[0;34m(\u001b[0m\u001b[0;34m'ignore'\u001b[0m\u001b[0;34m,\u001b[0m \u001b[0;34m'raise'\u001b[0m\u001b[0;34m)\u001b[0m \u001b[0;32melse\u001b[0m \u001b[0;32mTrue\u001b[0m\u001b[0;34m\u001b[0m\u001b[0;34m\u001b[0m\u001b[0m\n\u001b[1;32m    134\u001b[0m             values = lib.maybe_convert_numeric(values, set(),\n\u001b[0;32m--> 135\u001b[0;31m                                                coerce_numeric=coerce_numeric)\n\u001b[0m\u001b[1;32m    136\u001b[0m \u001b[0;34m\u001b[0m\u001b[0m\n\u001b[1;32m    137\u001b[0m     \u001b[0;32mexcept\u001b[0m \u001b[0mException\u001b[0m\u001b[0;34m:\u001b[0m\u001b[0;34m\u001b[0m\u001b[0;34m\u001b[0m\u001b[0m\n",
      "\u001b[0;32mpandas/_libs/lib.pyx\u001b[0m in \u001b[0;36mpandas._libs.lib.maybe_convert_numeric\u001b[0;34m()\u001b[0m\n",
      "\u001b[0;31mValueError\u001b[0m: ('Unable to parse string \"2999\\xa0\" at position 0', 'occurred at index price.original')"
     ]
    }
   ],
   "source": [
    "# The product(s) with the highest discount:\n",
    "zalando['price.original'] = (zalando[['price.original']].replace('[\\€,]', '', regex=True))\n",
    "zalando['price.promotional'] = (zalando[['price.promotional']].replace('[\\€,]', '', regex=True))\n",
    "zalando[['price.original', 'price.promotional']] = zalando[['price.original', 'price.promotional']].apply(pd.to_numeric)\n",
    "zalando['discounts'] = (zalando['price.original'] / (zalando['price.original']-zalando['price.promotional']))*100\n",
    "#Mostramos el producto con el mayor descuento (en porcentaje)\n",
    "zalando.sort_values('discounts', ascending=False).head(1)\n",
    "\n",
    "\n",
    "#NOTA: Por algún motivo no consigo convertir los precios a \"float\". He probado varios métodos y no me sale.\n",
    "#Lo consultaré en clase. Dejo el resto de codigo escrito sobre como lo haria."
   ]
  },
  {
   "cell_type": "code",
   "execution_count": null,
   "metadata": {},
   "outputs": [],
   "source": [
    "#The sum of discounts of all goods (sum_discounted_prices divided by sum_original_prices)\n",
    "zalando['discounts 2'] = zalando['price.promotional'] / zalando['price.original']\n",
    "total_discounts = zalando['discounts 2'].sum()\n",
    "total_discounts"
   ]
  }
 ],
 "metadata": {
  "kernelspec": {
   "display_name": "Python 3",
   "language": "python",
   "name": "python3"
  },
  "language_info": {
   "codemirror_mode": {
    "name": "ipython",
    "version": 3
   },
   "file_extension": ".py",
   "mimetype": "text/x-python",
   "name": "python",
   "nbconvert_exporter": "python",
   "pygments_lexer": "ipython3",
   "version": "3.6.8"
  }
 },
 "nbformat": 4,
 "nbformat_minor": 2
}
